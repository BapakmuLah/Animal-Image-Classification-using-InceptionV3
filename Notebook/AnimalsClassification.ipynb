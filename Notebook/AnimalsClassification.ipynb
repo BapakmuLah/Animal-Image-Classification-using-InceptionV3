{
 "cells": [
  {
   "cell_type": "code",
   "execution_count": null,
   "metadata": {},
   "outputs": [],
   "source": [
    "import tensorflow as tf\n",
    "import os"
   ]
  },
  {
   "cell_type": "code",
   "execution_count": 1,
   "metadata": {},
   "outputs": [
    {
     "data": {
      "text/plain": [
       "0"
      ]
     },
     "execution_count": 1,
     "metadata": {},
     "output_type": "execute_result"
    }
   ],
   "source": [
    "import gc\n",
    "gc.collect()"
   ]
  },
  {
   "cell_type": "code",
   "execution_count": 3,
   "metadata": {},
   "outputs": [],
   "source": [
    "# DONT RUN THIS CELL!!\n",
    "\n",
    "base_dir = r'C:\\Tensorflow\\Animals'\n",
    "base_dir\n",
    "\n",
    "train_dir = os.path.join(base_dir,'train')\n",
    "test_dir = os.path.join(base_dir, 'test')\n",
    "\n",
    "# MAKE SUBFOLDER FOR TRAINING IMAGE\n",
    "os.makedirs(os.path.join(train_dir,'cats'),exist_ok=True)\n",
    "os.makedirs(os.path.join(train_dir,'dogs'),exist_ok=True)\n",
    "os.makedirs(os.path.join(train_dir,'snakes'),exist_ok=True)\n",
    "\n",
    "# MAKE SUBFOLDER FOR TESTING IMAGE\n",
    "os.makedirs(os.path.join(test_dir,'cats'),exist_ok=True)\n",
    "os.makedirs(os.path.join(test_dir,'dogs'),exist_ok=True)\n",
    "os.makedirs(os.path.join(test_dir,'snakes'),exist_ok=True)"
   ]
  },
  {
   "cell_type": "code",
   "execution_count": null,
   "metadata": {},
   "outputs": [],
   "source": []
  },
  {
   "cell_type": "code",
   "execution_count": null,
   "metadata": {},
   "outputs": [],
   "source": [
    "# THIS CELL IS TO SPLIT IMAGE INTO 2 SUBFOLDER (TRAIN AND TEST)\n",
    "# ANYWAY , DONT RUN THIS CELL!!\n",
    "\n",
    "from sklearn.model_selection import train_test_split\n",
    "import shutil\n",
    "\n",
    "animals = ['cats','dogs','snakes']\n",
    "\n",
    "for animal in animals: # MOVE FILE FOR EACH ANIMAL CLASS\n",
    "    animals_path = os.path.join(base_dir,animal) # PATH FOR EVERY SUBFOLDER CATEGORY\n",
    "    scan_all_files = os.listdir(animals_path)  #SCAN AND GET IMAGE IN ANIMAL FOLDER\n",
    "\n",
    "    #SPLIT ANIMAL FILES INTO TRAIN AND TEST\n",
    "    train_files , test_files = train_test_split(scan_all_files,test_size=0.2,random_state=21,shuffle=True) \n",
    "\n",
    "    for filename in train_files: \n",
    "        #COPY EACH FILE FROM REAL ANIMAL FOLDER TO TRAIN ANIMAL FOLDER\n",
    "        shutil.copy(os.path.join(animals_path,filename),os.path.join(train_dir,animal)) #COPY EACH FILE FROM REAL ANIMAL FOLDER TO TRAIN ANIMAL FOLDER\n",
    "\n",
    "    for filename in test_files:\n",
    "        #COPY EACH FILE FROM ANIMAL FOLDER TO TEST ANIMAL FOLDER\n",
    "        shutil.copy(os.path.join(animals_path,filename),os.path.join(test_dir,animal))\n",
    "    \n",
    "\n"
   ]
  },
  {
   "cell_type": "code",
   "execution_count": null,
   "metadata": {},
   "outputs": [],
   "source": [
    "# THIS CELL IS TO SEE HOW MUCH SIZE OF THE IMAGE\n",
    "# U CAN RUN THIS CELL \n",
    "\n",
    "from PIL import Image\n",
    "import os\n",
    "\n",
    "# ACCESSED IMAGE PATH\n",
    "directory = r'..\\Animals\\train\\snakes'  # Contoh path\n",
    "\n",
    "# TO SEE SIZE OF IMAGE\n",
    "for filename in os.listdir(directory):\n",
    "    if filename.endswith('.jpg') or filename.endswith('.png'):  \n",
    "        img_path = os.path.join(directory, filename)\n",
    "        with Image.open(img_path) as img:\n",
    "            print(f'{filename}: {img.size}') \n",
    "            break                            # JUST WANNA SEE SIZE OF 1 IMAGE\n"
   ]
  },
  {
   "cell_type": "code",
   "execution_count": 3,
   "metadata": {},
   "outputs": [
    {
     "name": "stdout",
     "output_type": "stream",
     "text": [
      "Found 2400 files belonging to 3 classes.\n",
      "Found 600 files belonging to 3 classes.\n"
     ]
    }
   ],
   "source": [
    "# THIS CELL IS TO IMPORT IMAGE FILE AT LOCAL PC\n",
    "\n",
    "import tensorflow as tf\n",
    "\n",
    "# IMPORT TRAIN IMAGE FROM ANIMALS FOLDER\n",
    "train_folder = tf.keras.utils.image_dataset_from_directory(\n",
    "    directory='../Animals/train',\n",
    "    labels='inferred',\n",
    "    batch_size=10,\n",
    "    image_size=(180,180),\n",
    "    label_mode='categorical'\n",
    ")\n",
    "\n",
    "# IMPORT TEST IMAGE FROM ANIMALS FOLDER\n",
    "test_folder = tf.keras.utils.image_dataset_from_directory(\n",
    "    directory='../Animals/test',\n",
    "    labels='inferred',\n",
    "    batch_size=10,\n",
    "    image_size=(180,180),\n",
    "    label_mode='categorical'\n",
    ")"
   ]
  },
  {
   "cell_type": "code",
   "execution_count": 4,
   "metadata": {},
   "outputs": [
    {
     "data": {
      "text/plain": [
       "<ShuffleDataset element_spec=(TensorSpec(shape=(None, 180, 180, 3), dtype=tf.float32, name=None), TensorSpec(shape=(None, 3), dtype=tf.float32, name=None))>"
      ]
     },
     "execution_count": 4,
     "metadata": {},
     "output_type": "execute_result"
    }
   ],
   "source": [
    "# USE PREFETCH FOR FASTER TRAINING\n",
    "train_folder = train_folder.prefetch(buffer_size=tf.data.AUTOTUNE).cache().shuffle(2000) # FOR TRAINING DATASET\n",
    "test_folder = test_folder.prefetch(buffer_size=tf.data.AUTOTUNE).cache().shuffle(600)\n",
    "\n",
    "train_folder"
   ]
  },
  {
   "cell_type": "code",
   "execution_count": null,
   "metadata": {},
   "outputs": [],
   "source": []
  },
  {
   "cell_type": "code",
   "execution_count": 5,
   "metadata": {},
   "outputs": [],
   "source": [
    "# CREATING CONVOLUTION ARCHITECTURE\n",
    "\n",
    "model = tf.keras.Sequential([\n",
    "    tf.keras.layers.Input(shape=(180,180,3)),\n",
    "    tf.keras.layers.Rescaling(1./255),\n",
    "    tf.keras.layers.Conv2D(filters=32,kernel_size=(3,3),activation='relu',padding='same'),\n",
    "    tf.keras.layers.MaxPooling2D(pool_size=(2,2),strides=(2,2)),\n",
    "\n",
    "    tf.keras.layers.Conv2D(filters=64,kernel_size=(3,3),activation='relu',padding='same'),\n",
    "    tf.keras.layers.MaxPooling2D(pool_size=(2,2),strides=(2,2)),\n",
    "\n",
    "    tf.keras.layers.Conv2D(filters=128,kernel_size=(3,3),activation='relu',padding='same'),\n",
    "    tf.keras.layers.MaxPooling2D(pool_size=(2,2),strides=(2,2)),\n",
    "    \n",
    "    tf.keras.layers.Flatten(),\n",
    "    tf.keras.layers.Dense(units=128,activation='relu'),\n",
    "    tf.keras.layers.Dropout(0.5),\n",
    "    tf.keras.layers.Dense(units=3,activation='softmax')\n",
    "],name='CNN-Model'\n",
    ")"
   ]
  },
  {
   "cell_type": "code",
   "execution_count": 6,
   "metadata": {},
   "outputs": [
    {
     "name": "stdout",
     "output_type": "stream",
     "text": [
      "Model: \"CNN-Model\"\n",
      "_________________________________________________________________\n",
      " Layer (type)                Output Shape              Param #   \n",
      "=================================================================\n",
      " rescaling (Rescaling)       (None, 180, 180, 3)       0         \n",
      "                                                                 \n",
      " conv2d (Conv2D)             (None, 180, 180, 32)      896       \n",
      "                                                                 \n",
      " max_pooling2d (MaxPooling2D  (None, 90, 90, 32)       0         \n",
      " )                                                               \n",
      "                                                                 \n",
      " conv2d_1 (Conv2D)           (None, 90, 90, 64)        18496     \n",
      "                                                                 \n",
      " max_pooling2d_1 (MaxPooling  (None, 45, 45, 64)       0         \n",
      " 2D)                                                             \n",
      "                                                                 \n",
      " conv2d_2 (Conv2D)           (None, 45, 45, 128)       73856     \n",
      "                                                                 \n",
      " max_pooling2d_2 (MaxPooling  (None, 22, 22, 128)      0         \n",
      " 2D)                                                             \n",
      "                                                                 \n",
      " flatten (Flatten)           (None, 61952)             0         \n",
      "                                                                 \n",
      " dense (Dense)               (None, 128)               7929984   \n",
      "                                                                 \n",
      " dropout (Dropout)           (None, 128)               0         \n",
      "                                                                 \n",
      " dense_1 (Dense)             (None, 3)                 387       \n",
      "                                                                 \n",
      "=================================================================\n",
      "Total params: 8,023,619\n",
      "Trainable params: 8,023,619\n",
      "Non-trainable params: 0\n",
      "_________________________________________________________________\n"
     ]
    }
   ],
   "source": [
    "model.summary()"
   ]
  },
  {
   "cell_type": "code",
   "execution_count": 6,
   "metadata": {},
   "outputs": [],
   "source": [
    "model.compile(optimizer='adam',loss='categorical_crossentropy',metrics=['accuracy'],run_eagerly=False)"
   ]
  },
  {
   "cell_type": "code",
   "execution_count": 7,
   "metadata": {},
   "outputs": [],
   "source": [
    "class myCallback(tf.keras.callbacks.Callback):\n",
    "    def on_epoch_end(self, epoch, logs=None):\n",
    "        super().on_epoch_end(epoch, logs)\n",
    "        \n",
    "        if logs is not None and 'val_accuracy' in logs:\n",
    "            if logs['val_accuracy'] >= 0.97:\n",
    "                print('\\nTraining Successfully')\n",
    "                self.model.stop_training = True"
   ]
  },
  {
   "cell_type": "code",
   "execution_count": 8,
   "metadata": {},
   "outputs": [
    {
     "name": "stdout",
     "output_type": "stream",
     "text": [
      "Epoch 1/15\n",
      "240/240 [==============================] - 12s 31ms/step - loss: 0.9946 - accuracy: 0.4842 - val_loss: 0.7910 - val_accuracy: 0.6467\n",
      "Epoch 2/15\n",
      "240/240 [==============================] - 7s 29ms/step - loss: 0.8181 - accuracy: 0.6062 - val_loss: 0.7670 - val_accuracy: 0.6200\n",
      "Epoch 3/15\n",
      "240/240 [==============================] - 7s 28ms/step - loss: 0.7242 - accuracy: 0.6646 - val_loss: 0.7888 - val_accuracy: 0.6183\n",
      "Epoch 4/15\n",
      "240/240 [==============================] - 7s 27ms/step - loss: 0.6386 - accuracy: 0.7221 - val_loss: 0.6995 - val_accuracy: 0.6867\n",
      "Epoch 5/15\n",
      "240/240 [==============================] - 7s 27ms/step - loss: 0.5354 - accuracy: 0.7679 - val_loss: 0.7753 - val_accuracy: 0.6950\n",
      "Epoch 6/15\n",
      "240/240 [==============================] - 7s 27ms/step - loss: 0.4369 - accuracy: 0.8233 - val_loss: 0.7566 - val_accuracy: 0.6983\n",
      "Epoch 7/15\n",
      "240/240 [==============================] - 7s 28ms/step - loss: 0.3606 - accuracy: 0.8671 - val_loss: 0.8836 - val_accuracy: 0.6767\n",
      "Epoch 8/15\n",
      "240/240 [==============================] - 7s 28ms/step - loss: 0.2877 - accuracy: 0.8863 - val_loss: 0.8274 - val_accuracy: 0.7067\n",
      "Epoch 9/15\n",
      "240/240 [==============================] - 7s 28ms/step - loss: 0.2245 - accuracy: 0.9142 - val_loss: 1.0429 - val_accuracy: 0.7183\n",
      "Epoch 10/15\n",
      "240/240 [==============================] - 7s 27ms/step - loss: 0.1805 - accuracy: 0.9325 - val_loss: 0.9781 - val_accuracy: 0.6850\n",
      "Epoch 11/15\n",
      "240/240 [==============================] - 6s 27ms/step - loss: 0.1394 - accuracy: 0.9483 - val_loss: 1.0466 - val_accuracy: 0.7000\n",
      "Epoch 12/15\n",
      "240/240 [==============================] - 7s 27ms/step - loss: 0.1354 - accuracy: 0.9546 - val_loss: 1.1829 - val_accuracy: 0.6883\n",
      "Epoch 13/15\n",
      "240/240 [==============================] - 6s 27ms/step - loss: 0.0926 - accuracy: 0.9658 - val_loss: 1.3900 - val_accuracy: 0.7050\n",
      "Epoch 14/15\n",
      "240/240 [==============================] - 7s 27ms/step - loss: 0.0847 - accuracy: 0.9704 - val_loss: 1.2665 - val_accuracy: 0.7083\n",
      "Epoch 15/15\n",
      "240/240 [==============================] - 7s 27ms/step - loss: 0.1002 - accuracy: 0.9646 - val_loss: 1.4420 - val_accuracy: 0.7000\n"
     ]
    }
   ],
   "source": [
    "\n",
    "history = model.fit(train_folder,epochs=15,verbose=1,validation_data=[test_folder],batch_size=1)"
   ]
  },
  {
   "cell_type": "code",
   "execution_count": null,
   "metadata": {},
   "outputs": [],
   "source": []
  }
 ],
 "metadata": {
  "kernelspec": {
   "display_name": "Tensorfly",
   "language": "python",
   "name": "python3"
  },
  "language_info": {
   "codemirror_mode": {
    "name": "ipython",
    "version": 3
   },
   "file_extension": ".py",
   "mimetype": "text/x-python",
   "name": "python",
   "nbconvert_exporter": "python",
   "pygments_lexer": "ipython3",
   "version": "3.9.13"
  }
 },
 "nbformat": 4,
 "nbformat_minor": 2
}
